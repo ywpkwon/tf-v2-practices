{
 "cells": [
  {
   "cell_type": "code",
   "execution_count": 2,
   "metadata": {},
   "outputs": [],
   "source": [
    "from __future__ import absolute_import, division, print_function, unicode_literals\n",
    "\n",
    "import tensorflow_datasets as tfds\n",
    "import tensorflow as tf\n",
    "import os\n",
    "import numpy as np "
   ]
  },
  {
   "cell_type": "code",
   "execution_count": 20,
   "metadata": {},
   "outputs": [],
   "source": [
    "# ind = tf.keras.Input(shape=(4), dtype=tf.int64)       # (None, 4)\n",
    "\n",
    "# x = tf.keras.Input(shape=(35, 7), dtype=tf.float32)   # (None, 35, 7)\n",
    "# net = tf.keras.layers.Dense(11, activation='relu')(x)   # (None, 35, 11)\n",
    "# net = tf.reduce_max(net, axis=1, name='maxpool')          # (None, 11)\n",
    "\n",
    "# dense_shape = np.array([2, 7, 8, 9, 11], np.int64)\n",
    "# y = tf.scatter_nd(ind, net, dense_shape)\n",
    "\n",
    "# model = tf.keras.Model(inputs=[x, ind], outputs=y)"
   ]
  },
  {
   "cell_type": "code",
   "execution_count": 22,
   "metadata": {},
   "outputs": [],
   "source": [
    "# model.summary()"
   ]
  },
  {
   "cell_type": "code",
   "execution_count": 10,
   "metadata": {},
   "outputs": [
    {
     "name": "stdout",
     "output_type": "stream",
     "text": [
      "INFO:tensorflow:Using MirroredStrategy with devices ('/job:localhost/replica:0/task:0/device:GPU:0',)\n",
      "Number of devices: 1\n"
     ]
    }
   ],
   "source": [
    "strategy = tf.distribute.MirroredStrategy()\n",
    "print('Number of devices: {}'.format(strategy.num_replicas_in_sync))"
   ]
  },
  {
   "cell_type": "code",
   "execution_count": 12,
   "metadata": {},
   "outputs": [
    {
     "name": "stdout",
     "output_type": "stream",
     "text": [
      "Batch size: 64\n"
     ]
    }
   ],
   "source": [
    "# # You can also do info.splits.total_num_examples to get the total\n",
    "# # number of examples in the dataset.\n",
    "\n",
    "# BUFFER_SIZE = 10000\n",
    "# BATCH_SIZE_PER_REPLICA = 64\n",
    "# BATCH_SIZE = BATCH_SIZE_PER_REPLICA * strategy.num_replicas_in_sync\n",
    "# print('Batch size: {}'.format(BATCH_SIZE))\n",
    "\n",
    "\n",
    "# datasets, info = tfds.load(name='mnist', with_info=True, as_supervised=True)\n",
    "# mnist_train, mnist_test = datasets['train'], datasets['test']\n",
    "\n",
    "# train_dataset = mnist_train.cache().shuffle(BUFFER_SIZE).batch(BATCH_SIZE)\n",
    "# eval_dataset = mnist_test.batch(BATCH_SIZE)"
   ]
  },
  {
   "cell_type": "code",
   "execution_count": 13,
   "metadata": {},
   "outputs": [
    {
     "data": {
      "text/plain": [
       "<_OptionsDataset shapes: ((28, 28, 1), ()), types: (tf.uint8, tf.int64)>"
      ]
     },
     "execution_count": 13,
     "metadata": {},
     "output_type": "execute_result"
    }
   ],
   "source": [
    "# mnist_train\n"
   ]
  },
  {
   "cell_type": "code",
   "execution_count": 23,
   "metadata": {},
   "outputs": [],
   "source": [
    "# train = np.random.rand(300, 35, 7).astype(np.float32)\n",
    "# label = np.random.rand(2, 7, 8, 9, 11).astype(np.float32)\n",
    "\n",
    "\n",
    "\n",
    "# with strategy.scope():\n",
    "    \n",
    "#     # MODEL\n",
    "#     ind = tf.keras.Input(shape=(4), dtype=tf.int64)       # (None, 4)\n",
    "\n",
    "#     x = tf.keras.Input(shape=(35, 7), dtype=tf.float32)   # (None, 35, 7)\n",
    "#     net = tf.keras.layers.Dense(11, activation='relu')(x)   # (None, 35, 11)\n",
    "#     net = tf.reduce_max(net, axis=1, name='maxpool')          # (None, 11)\n",
    "    \n",
    "#     dense_shape = np.array([2, 7, 8, 9, 11], np.int64)\n",
    "#     y = tf.scatter_nd(ind, net, dense_shape)\n",
    "    \n",
    "#     model = tf.keras.Model(inputs=[x, ind], outputs=y)\n",
    "\n",
    "#     model.compile(loss='sparse_categorical_crossentropy',\n",
    "#                   optimizer=tf.keras.optimizers.Adam())\n",
    "\n",
    "# model.fit(train_dataset, epochs=12)"
   ]
  },
  {
   "cell_type": "markdown",
   "metadata": {},
   "source": [
    "# DATASET practice"
   ]
  },
  {
   "cell_type": "code",
   "execution_count": 26,
   "metadata": {},
   "outputs": [
    {
     "name": "stdout",
     "output_type": "stream",
     "text": [
      "(1, 3) (1, 3) (11, 2)\n",
      "(4, 3) (4, 3) (11, 2)\n"
     ]
    }
   ],
   "source": [
    "# import itertools\n",
    "# tf.compat.v1.enable_eager_execution()\n",
    "\n",
    "def gen():\n",
    "    while True:\n",
    "        n = np.random.randint(1, 7)\n",
    "        yield ((np.random.rand(n, 3).astype(np.float32),   # (n, 3)\n",
    "                np.random.rand(n, 3).astype(np.int64)),    # (n, 3)\n",
    "               np.random.rand(11, 2).astype(np.float32))    # (11, 2)\n",
    "     \n",
    "        \n",
    "ds = tf.data.Dataset.from_generator(\n",
    "    gen, ((tf.float32, tf.int64), tf.float32), \n",
    "    ((tf.TensorShape([None, 3]), tf.TensorShape([None, 3])), tf.TensorShape([11, 2])) )\n",
    "\n",
    "for value in ds.take(2):\n",
    "    print(value[0][0].shape, value[0][1].shape, value[1].shape)\n",
    "    \n",
    "    \n",
    "# (1, array([1]))\n",
    "# (2, array([1, 1]))"
   ]
  },
  {
   "cell_type": "code",
   "execution_count": 27,
   "metadata": {},
   "outputs": [],
   "source": [
    "dist_dataset = strategy.experimental_distribute_dataset(ds)"
   ]
  },
  {
   "cell_type": "code",
   "execution_count": 28,
   "metadata": {},
   "outputs": [],
   "source": [
    "iterator = iter(dist_dataset)"
   ]
  },
  {
   "cell_type": "code",
   "execution_count": 29,
   "metadata": {},
   "outputs": [
    {
     "name": "stdout",
     "output_type": "stream",
     "text": [
      "(4, 3) (4, 3) (11, 2)\n",
      "(1, 3) (1, 3) (11, 2)\n",
      "(4, 3) (4, 3) (11, 2)\n"
     ]
    }
   ],
   "source": [
    "for _ in range(3):\n",
    "    aa = next(iterator)\n",
    "    print(aa[0][0].shape, aa[0][1].shape, aa[1].shape)"
   ]
  }
 ],
 "metadata": {
  "kernelspec": {
   "display_name": "tf20",
   "language": "python",
   "name": "tf20"
  },
  "language_info": {
   "codemirror_mode": {
    "name": "ipython",
    "version": 3
   },
   "file_extension": ".py",
   "mimetype": "text/x-python",
   "name": "python",
   "nbconvert_exporter": "python",
   "pygments_lexer": "ipython3",
   "version": "3.6.9"
  }
 },
 "nbformat": 4,
 "nbformat_minor": 2
}
